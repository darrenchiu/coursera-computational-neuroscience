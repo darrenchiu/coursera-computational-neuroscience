{
 "cells": [
  {
   "cell_type": "code",
   "execution_count": 1,
   "id": "e62b05f6",
   "metadata": {},
   "outputs": [],
   "source": [
    "import pickle\n",
    "\n",
    "with open('tuning_3.4.pickle', 'rb') as f:\n",
    "    data = pickle.load(f)"
   ]
  },
  {
   "cell_type": "code",
   "execution_count": 2,
   "id": "f358d3b5",
   "metadata": {},
   "outputs": [
    {
     "name": "stdout",
     "output_type": "stream",
     "text": [
      "24\n"
     ]
    }
   ],
   "source": [
    "print(len(data['stim']))"
   ]
  },
  {
   "cell_type": "code",
   "execution_count": 3,
   "id": "8fa5a9d4",
   "metadata": {},
   "outputs": [
    {
     "name": "stdout",
     "output_type": "stream",
     "text": [
      "2400\n"
     ]
    }
   ],
   "source": [
    "print(data['neuron2'].size)"
   ]
  },
  {
   "cell_type": "code",
   "execution_count": 4,
   "id": "bd65c951",
   "metadata": {},
   "outputs": [],
   "source": [
    "import matplotlib.pyplot as plt\n",
    "import numpy as np\n",
    "\n"
   ]
  },
  {
   "cell_type": "code",
   "execution_count": 5,
   "id": "982d56bc",
   "metadata": {},
   "outputs": [
    {
     "name": "stdout",
     "output_type": "stream",
     "text": [
      "[[19.7 27.4 28.1 ...  0.   9.8 16.1]\n",
      " [21.3 28.7 32.8 ...  0.   8.3 16.6]\n",
      " [21.5 27.3 29.3 ...  0.   8.6 17.2]\n",
      " ...\n",
      " [21.9 28.7 30.  ...  0.   8.7 14.4]\n",
      " [24.1 28.1 29.1 ...  0.   7.1 15.9]\n",
      " [24.  28.3 28.4 ...  0.   8.2 19.1]]\n"
     ]
    }
   ],
   "source": [
    "response1 = np.array(data['neuron1'])\n",
    "response2 = np.array(data['neuron2'])\n",
    "response3 = np.array(data['neuron3'])\n",
    "response4 = np.array(data['neuron4'])\n",
    "\n",
    "print(response1)"
   ]
  },
  {
   "cell_type": "code",
   "execution_count": 6,
   "id": "e0e43428",
   "metadata": {},
   "outputs": [
    {
     "name": "stdout",
     "output_type": "stream",
     "text": [
      "[0.8482848  1.02610988 1.07357059 1.01720472 0.97909731 0.75616116\n",
      " 0.93058217 0.83409803 0.78656216        nan        nan        nan\n",
      "        nan        nan        nan        nan        nan        nan\n",
      "        nan        nan        nan        nan 0.83057471 1.15102167]\n"
     ]
    },
    {
     "name": "stderr",
     "output_type": "stream",
     "text": [
      "/var/folders/6b/41lqvs357tqbll6p284ymrj00000gn/T/ipykernel_33848/2948633306.py:6: RuntimeWarning: invalid value encountered in divide\n",
      "  print(var1/mean1)\n"
     ]
    }
   ],
   "source": [
    "response1_spike_count = response1*10\n",
    "\n",
    "var1 = np.var(response1_spike_count, axis=0)\n",
    "mean1 = np.mean(response1_spike_count, axis=0)\n",
    "\n",
    "print(var1/mean1)"
   ]
  },
  {
   "cell_type": "code",
   "execution_count": 7,
   "id": "3c115fde",
   "metadata": {},
   "outputs": [
    {
     "name": "stdout",
     "output_type": "stream",
     "text": [
      "[       nan        nan        nan        nan 1.01546763 1.07923614\n",
      " 0.99616382 0.87518592 0.97279819 1.10690541 0.9109901  1.10637585\n",
      " 1.00847379 1.05360833 1.26346679        nan        nan        nan\n",
      "        nan        nan        nan        nan        nan        nan]\n"
     ]
    },
    {
     "name": "stderr",
     "output_type": "stream",
     "text": [
      "/var/folders/6b/41lqvs357tqbll6p284ymrj00000gn/T/ipykernel_33848/843241551.py:6: RuntimeWarning: invalid value encountered in divide\n",
      "  print(var2/mean2)\n"
     ]
    }
   ],
   "source": [
    "response2_spike_count = response2*10\n",
    "\n",
    "var2 = np.var(response2_spike_count, axis=0)\n",
    "mean2 = np.mean(response2_spike_count, axis=0)\n",
    "\n",
    "print(var2/mean2)"
   ]
  },
  {
   "cell_type": "code",
   "execution_count": 8,
   "id": "05175118",
   "metadata": {},
   "outputs": [
    {
     "name": "stdout",
     "output_type": "stream",
     "text": [
      "[        nan         nan         nan         nan         nan         nan\n",
      "         nan         nan         nan 17.12204819  8.17197457  6.89972639\n",
      "  3.78616249  3.18680412  2.64762233  1.9921363   2.8875408   2.86965644\n",
      "  3.42075829  5.28181806  9.64490781 20.06429066  7.36222222         nan]\n"
     ]
    },
    {
     "name": "stderr",
     "output_type": "stream",
     "text": [
      "/var/folders/6b/41lqvs357tqbll6p284ymrj00000gn/T/ipykernel_33848/3657743362.py:6: RuntimeWarning: invalid value encountered in divide\n",
      "  print(var3/mean3)\n"
     ]
    }
   ],
   "source": [
    "response3_spike_count = response3*10\n",
    "\n",
    "var3 = np.var(response3_spike_count, axis=0)\n",
    "mean3 = np.mean(response3_spike_count, axis=0)\n",
    "\n",
    "print(var3/mean3)"
   ]
  },
  {
   "cell_type": "code",
   "execution_count": 9,
   "id": "a6243972",
   "metadata": {},
   "outputs": [
    {
     "name": "stdout",
     "output_type": "stream",
     "text": [
      "[1.10333861 0.89154003 1.04409441        nan        nan        nan\n",
      "        nan        nan        nan        nan        nan        nan\n",
      "        nan        nan        nan        nan 1.0943101  0.96834749\n",
      " 0.83775912 0.95989131 0.90942085 1.10593293 0.73135531 1.09983662]\n"
     ]
    },
    {
     "name": "stderr",
     "output_type": "stream",
     "text": [
      "/var/folders/6b/41lqvs357tqbll6p284ymrj00000gn/T/ipykernel_33848/3237531406.py:6: RuntimeWarning: invalid value encountered in divide\n",
      "  print(var4/mean4)\n"
     ]
    }
   ],
   "source": [
    "response4_spike_count = response4*10\n",
    "\n",
    "var4 = np.var(response4_spike_count, axis=0)\n",
    "mean4 = np.mean(response4_spike_count, axis=0)\n",
    "\n",
    "print(var4/mean4)"
   ]
  },
  {
   "cell_type": "code",
   "execution_count": 11,
   "id": "046e817e",
   "metadata": {},
   "outputs": [
    {
     "data": {
      "text/plain": [
       "<matplotlib.legend.Legend at 0x11865c820>"
      ]
     },
     "execution_count": 11,
     "metadata": {},
     "output_type": "execute_result"
    },
    {
     "data": {
      "image/png": "[encoded data removed]",
      "text/plain": [
       "<Figure size 640x480 with 1 Axes>"
      ]
     },
     "metadata": {},
     "output_type": "display_data"
    }
   ],
   "source": [
    "response1_avg = response1.mean(axis=0)\n",
    "response2_avg = response2.mean(axis=0)\n",
    "response3_avg = response3.mean(axis=0)\n",
    "response4_avg = response4.mean(axis=0)\n",
    "\n",
    "plt.plot(data['stim'], response1_avg, label=\"neuron1\")\n",
    "plt.plot(data['stim'], response2_avg, label=\"neuron2\")\n",
    "plt.plot(data['stim'], response3_avg, label=\"neuron3\")\n",
    "plt.plot(data['stim'], response4_avg, label=\"neuron4\")\n",
    "plt.legend()"
   ]
  },
  {
   "cell_type": "code",
   "execution_count": 13,
   "id": "824b4839",
   "metadata": {},
   "outputs": [],
   "source": [
    "import pickle\n",
    "\n",
    "with open('pop_coding_3.4.pickle', 'rb') as f:\n",
    "    data_pop = pickle.load(f)"
   ]
  },
  {
   "cell_type": "code",
   "execution_count": 16,
   "id": "5a03d176",
   "metadata": {},
   "outputs": [
    {
     "name": "stdout",
     "output_type": "stream",
     "text": [
      "[31.707 21.069 15.26  27.076]\n"
     ]
    }
   ],
   "source": [
    "max_average_firing_rate = np.array([response1_avg.max(),\n",
    "                                    response2_avg.max(),\n",
    "                                    response3_avg.max(),\n",
    "                                    response4_avg.max()])\n",
    "\n",
    "\n",
    "print(max_average_firing_rate)"
   ]
  },
  {
   "cell_type": "code",
   "execution_count": 19,
   "id": "f132a79a",
   "metadata": {},
   "outputs": [
    {
     "name": "stdout",
     "output_type": "stream",
     "text": [
      "[12.34 19.5   0.    0.  ]\n"
     ]
    }
   ],
   "source": [
    "# Calculate Population Matrix\n",
    "\n",
    "r = np.array([np.mean(data_pop['r1']),\n",
    "              np.mean(data_pop['r2']),\n",
    "              np.mean(data_pop['r3']),\n",
    "              np.mean(data_pop['r4'])\n",
    "             ])\n",
    "\n",
    "print(r)"
   ]
  },
  {
   "cell_type": "code",
   "execution_count": 32,
   "id": "3ca5eba4",
   "metadata": {},
   "outputs": [
    {
     "name": "stdout",
     "output_type": "stream",
     "text": [
      "[[ 0.70710678  0.70710678]\n",
      " [ 0.70710678 -0.70710678]\n",
      " [-0.70710678 -0.70710678]\n",
      " [-0.70710678  0.70710678]]\n"
     ]
    },
    {
     "data": {
      "image/png": "[encoded data removed]",
      "text/plain": [
       "<Figure size 640x480 with 1 Axes>"
      ]
     },
     "metadata": {},
     "output_type": "display_data"
    }
   ],
   "source": [
    "c = np.array([np.array(data_pop['c1']),\n",
    "                 np.array(data_pop['c2']),\n",
    "                 np.array(data_pop['c3']),\n",
    "                 np.array(data_pop['c4'])\n",
    "             ])\n",
    "\n",
    "print(c)\n",
    "\n",
    "origin = np.array([[0, 0, 0, 0],[0, 0, 0, 0]])\n",
    "\n",
    "plt.quiver(*origin, c[:,0], c[:,1], color=['r','b','g','y'], scale=2)\n",
    "plt.show()"
   ]
  },
  {
   "cell_type": "code",
   "execution_count": 43,
   "id": "1b985932",
   "metadata": {},
   "outputs": [
    {
     "name": "stdout",
     "output_type": "stream",
     "text": [
      "[ 0.92964665 -0.37925099]\n"
     ]
    }
   ],
   "source": [
    "r_over_rmax = r/max_average_firing_rate\n",
    "\n",
    "# v_pop = c * r_over_rmax[:, None]\n",
    "v_pop = np.dot(r_over_rmax, c)\n",
    "print(v_pop)\n",
    "\n",
    "# print(r_over_rmax)\n",
    "# print(c)\n",
    "# print(v_pop)"
   ]
  },
  {
   "cell_type": "code",
   "execution_count": 50,
   "id": "314ae4b9",
   "metadata": {},
   "outputs": [
    {
     "name": "stdout",
     "output_type": "stream",
     "text": [
      "-22°\n"
     ]
    }
   ],
   "source": [
    "from math import atan2, degrees\n",
    "\n",
    "atan_value = v_pop[1]/v_pop[0]\n",
    "print(str(round(degrees(atan2(v_pop[1], v_pop[0])))) + '°')"
   ]
  },
  {
   "cell_type": "code",
   "execution_count": null,
   "id": "d43f0623",
   "metadata": {},
   "outputs": [],
   "source": []
  }
 ],
 "metadata": {
  "kernelspec": {
   "display_name": "Python 3 (ipykernel)",
   "language": "python",
   "name": "python3"
  },
  "language_info": {
   "codemirror_mode": {
    "name": "ipython",
    "version": 3
   },
   "file_extension": ".py",
   "mimetype": "text/x-python",
   "name": "python",
   "nbconvert_exporter": "python",
   "pygments_lexer": "ipython3",
   "version": "3.9.6"
  }
 },
 "nbformat": 4,
 "nbformat_minor": 5
}
